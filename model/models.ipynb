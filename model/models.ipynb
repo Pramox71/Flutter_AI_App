{
 "cells": [
  {
   "cell_type": "code",
   "execution_count": 60,
   "metadata": {},
   "outputs": [],
   "source": [
    "from rembg import remove\n",
    "from PIL import Image\n",
    "from io import BytesIO\n",
    "import os"
   ]
  },
  {
   "cell_type": "code",
   "execution_count": 61,
   "metadata": {},
   "outputs": [],
   "source": [
    "uji = 0"
   ]
  },
  {
   "cell_type": "code",
   "execution_count": 62,
   "metadata": {},
   "outputs": [],
   "source": [
    "def change_bg(output_path):\n",
    "    global uji\n",
    "    bg_img = Image.open(\"Template/Potrait.png\")\n",
    "    fg_img = Image.open(output_path)\n",
    "    bg_img = bg_img.resize((fg_img.width,fg_img.height))\n",
    "    bg_img.paste(fg_img, (0,0), fg_img)\n",
    "    uji += 1\n",
    "    bg_img.save(\"Template/Hasil\" + str(uji) + \".png\", format=\"png\")\n"
   ]
  },
  {
   "cell_type": "code",
   "execution_count": 63,
   "metadata": {},
   "outputs": [],
   "source": [
    "def remove_background(input_image_path, output_image_path):\n",
    "    \"\"\"Menghapus latar belakang dari gambar.\"\"\"\n",
    "    with open(input_image_path, 'rb') as input_file:\n",
    "        input_data = input_file.read()\n",
    "\n",
    "    output_data = remove(input_data)\n",
    "    with open(output_image_path, 'wb') as output_file:\n",
    "        output_file.write(output_data)\n",
    "    print(f\"Hasil gambar disimpan di: {output_image_path}\")"
   ]
  },
  {
   "cell_type": "code",
   "execution_count": 64,
   "metadata": {},
   "outputs": [],
   "source": [
    "def main():\n",
    "    # Meminta pengguna untuk memasukkan path gambar\n",
    "    input_image_path = input(\"Masukkan path gambar yang ingin dihapus latar belakangnya: \")\n",
    "    img_name = input_image_path.split(\"\\\\\")[-1] + \"_no_bg.png\"\n",
    "    # Cek apakah file ada\n",
    "    if not os.path.isfile(input_image_path):\n",
    "        print(\"File tidak ditemukan. Silakan masukkan path yang valid.\")\n",
    "        return\n",
    "\n",
    "    # Menentukan path untuk menyimpan gambar hasil\n",
    "    output_image_path = \"Hasil/\" + img_name\n",
    "\n",
    "    # Menghapus latar belakang\n",
    "    remove_background(input_image_path, output_image_path)\n",
    "    change_bg(output_image_path)"
   ]
  },
  {
   "cell_type": "code",
   "execution_count": 65,
   "metadata": {},
   "outputs": [
    {
     "name": "stdout",
     "output_type": "stream",
     "text": [
      "Hasil gambar disimpan di: Hasil/DSC02772.JPG_no_bg.png\n"
     ]
    }
   ],
   "source": [
    "if __name__ == \"__main__\":\n",
    "    main()"
   ]
  }
 ],
 "metadata": {
  "kernelspec": {
   "display_name": "Python 3",
   "language": "python",
   "name": "python3"
  },
  "language_info": {
   "codemirror_mode": {
    "name": "ipython",
    "version": 3
   },
   "file_extension": ".py",
   "mimetype": "text/x-python",
   "name": "python",
   "nbconvert_exporter": "python",
   "pygments_lexer": "ipython3",
   "version": "3.10.7"
  }
 },
 "nbformat": 4,
 "nbformat_minor": 2
}
